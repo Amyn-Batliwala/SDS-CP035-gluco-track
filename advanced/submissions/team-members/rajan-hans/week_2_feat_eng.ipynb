{
 "cells": [
  {
   "cell_type": "markdown",
   "id": "68835f88",
   "metadata": {},
   "source": [
    "#### 1. Setup and Loading"
   ]
  },
  {
   "cell_type": "code",
   "execution_count": null,
   "id": "12ae2ae2",
   "metadata": {},
   "outputs": [],
   "source": [
    "import pandas as pd\n",
    "import numpy as np\n",
    "import matplotlib.pyplot as plt\n",
    "import seaborn as sns\n",
    "from ucimlrepo import fetch_ucirepo\n",
    "from sklearn.preprocessing import StandardScaler, LabelEncoder\n",
    "from sklearn.model_selection import train_test_split\n",
    "import torch\n",
    "from torch.utils.data import TensorDataset, DataLoader\n",
    "import warnings\n",
    "\n",
    "warnings.filterwarnings('ignore')\n"
   ]
  },
  {
   "cell_type": "code",
   "execution_count": null,
   "id": "4a5bbe02",
   "metadata": {},
   "outputs": [],
   "source": [
    "\n",
    "sns.set_style('whitegrid')\n",
    "dataset = fetch_ucirepo(id=891)  # CDC Diabetes Health Indicators\",\n",
    "X = dataset.data.features\n",
    "y = dataset.data.targets\n",
    "df = pd.concat([X, y], axis=1)\n",
    "print(X.shape, y.shape)\n",
    "print(X)\n",
    "print(y)\n",
    "df.head()"
   ]
  },
  {
   "cell_type": "markdown",
   "id": "ad017bd9",
   "metadata": {},
   "source": [
    "**Data Loading and Preparation Explanation:**\n",
    "- The code uses `fetch_ucirepo(id=891)` to download the CDC Diabetes Health Indicators dataset from the UCI Machine Learning Repository.\n",
    "- `X = dataset.data.features` extracts the feature columns (predictors) from the dataset.\n",
    "- `y = dataset.data.targets` extracts the target column(s) (outcomes/labels) from the dataset.\n",
    "- `df = pd.concat([X, y], axis=1)` combines the features and targets into a single DataFrame for easier analysis and modeling.\n",
    "- The following print statements display the shapes and contents of the features and targets, and show the first few rows of the combined DataFrame.\n",
    "\n",
    "This step ensures you have all relevant data in one place, ready for feature engineering and further analysis."
   ]
  }
 ],
 "metadata": {
  "kernelspec": {
   "display_name": ".venv (3.13.6)",
   "language": "python",
   "name": "python3"
  },
  "language_info": {
   "codemirror_mode": {
    "name": "ipython",
    "version": 3
   },
   "file_extension": ".py",
   "mimetype": "text/x-python",
   "name": "python",
   "nbconvert_exporter": "python",
   "pygments_lexer": "ipython3",
   "version": "3.13.6"
  }
 },
 "nbformat": 4,
 "nbformat_minor": 5
}
