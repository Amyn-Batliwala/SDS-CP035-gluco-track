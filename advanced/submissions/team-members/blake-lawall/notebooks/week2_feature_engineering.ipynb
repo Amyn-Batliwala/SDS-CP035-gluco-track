{
  "cells": [
    {
      "cell_type": "markdown",
      "metadata": {},
      "source": [
        "# Week 2: Feature Engineering & Deep Learning Prep\n",
        "\n",
        "## Overview\n",
        "This notebook covers the week 2: feature engineering & deep learning prep phase of the GlucoTrack Advanced Track project.\n",
        "\n",
        "## Learning Objectives\n",
        "- [ ] Complete all required tasks for this week\n",
        "- [ ] Document findings and insights\n",
        "- [ ] Prepare for next week's challenges\n"
      ]
    },
    {
      "cell_type": "markdown",
      "metadata": {},
      "source": [
        "## Setup and Imports\n",
        "\n",
        "Import all necessary libraries for this week's work."
      ]
    },
    {
      "cell_type": "code",
      "execution_count": null,
      "metadata": {},
      "outputs": [],
      "source": [
        "# Standard imports\n",
        "import numpy as np\n",
        "import pandas as pd\n",
        "import matplotlib.pyplot as plt\n",
        "import seaborn as sns\n",
        "import plotly.express as px\n",
        "import plotly.graph_objects as go\n",
        "from plotly.subplots import make_subplots\n",
        "\n",
        "# Deep Learning imports\n",
        "import torch\n",
        "import torch.nn as nn\n",
        "import torch.optim as optim\n",
        "from torch.utils.data import Dataset, DataLoader\n",
        "\n",
        "# Machine Learning imports\n",
        "from sklearn.model_selection import train_test_split\n",
        "from sklearn.preprocessing import StandardScaler, LabelEncoder\n",
        "from sklearn.metrics import classification_report, confusion_matrix, roc_auc_score\n",
        "\n",
        "# Explainability imports\n",
        "import shap\n",
        "import lime\n",
        "import lime.lime_tabular\n",
        "\n",
        "# Experiment tracking\n",
        "import mlflow\n",
        "import mlflow.pytorch\n",
        "\n",
        "# Utilities\n",
        "import warnings\n",
        "warnings.filterwarnings('ignore')\n",
        "\n",
        "# Set random seeds for reproducibility\n",
        "np.random.seed(42)\n",
        "torch.manual_seed(42)\n",
        "\n",
        "print(f\"PyTorch version: {torch.__version__}\")\n",
        "print(f\"CUDA available: {torch.cuda.is_available()}\")\n"
      ]
    },
    {
      "cell_type": "markdown",
      "metadata": {},
      "source": [
        "## 1. Data Preprocessing Pipeline\n",
        "\n",
        "### Task Description\n",
        "Complete the data preprocessing pipeline tasks for this week.\n",
        "\n",
        "### Your Work\n",
        "Add your code and analysis below:"
      ]
    },
    {
      "cell_type": "code",
      "execution_count": null,
      "metadata": {},
      "outputs": [],
      "source": [
        "# TODO: Implement your solution here\n",
        "\n",
        "# Example code structure:\n",
        "# 1. Load your data\n",
        "# 2. Perform analysis\n",
        "# 3. Create visualizations\n",
        "# 4. Document findings\n",
        "\n",
        "print(\"Ready to implement your solution!\")\n"
      ]
    },
    {
      "cell_type": "markdown",
      "metadata": {},
      "source": [
        "## 2. Categorical Feature Encoding\n",
        "\n",
        "### Task Description\n",
        "Complete the categorical feature encoding tasks for this week.\n",
        "\n",
        "### Your Work\n",
        "Add your code and analysis below:"
      ]
    },
    {
      "cell_type": "code",
      "execution_count": null,
      "metadata": {},
      "outputs": [],
      "source": [
        "# TODO: Implement your solution here\n",
        "\n",
        "# Example code structure:\n",
        "# 1. Load your data\n",
        "# 2. Perform analysis\n",
        "# 3. Create visualizations\n",
        "# 4. Document findings\n",
        "\n",
        "print(\"Ready to implement your solution!\")\n"
      ]
    },
    {
      "cell_type": "markdown",
      "metadata": {},
      "source": [
        "## 3. Numerical Feature Scaling\n",
        "\n",
        "### Task Description\n",
        "Complete the numerical feature scaling tasks for this week.\n",
        "\n",
        "### Your Work\n",
        "Add your code and analysis below:"
      ]
    },
    {
      "cell_type": "code",
      "execution_count": null,
      "metadata": {},
      "outputs": [],
      "source": [
        "# TODO: Implement your solution here\n",
        "\n",
        "# Example code structure:\n",
        "# 1. Load your data\n",
        "# 2. Perform analysis\n",
        "# 3. Create visualizations\n",
        "# 4. Document findings\n",
        "\n",
        "print(\"Ready to implement your solution!\")\n"
      ]
    },
    {
      "cell_type": "markdown",
      "metadata": {},
      "source": [
        "## 4. Handling Class Imbalance\n",
        "\n",
        "### Task Description\n",
        "Complete the handling class imbalance tasks for this week.\n",
        "\n",
        "### Your Work\n",
        "Add your code and analysis below:"
      ]
    },
    {
      "cell_type": "code",
      "execution_count": null,
      "metadata": {},
      "outputs": [],
      "source": [
        "# TODO: Implement your solution here\n",
        "\n",
        "# Example code structure:\n",
        "# 1. Load your data\n",
        "# 2. Perform analysis\n",
        "# 3. Create visualizations\n",
        "# 4. Document findings\n",
        "\n",
        "print(\"Ready to implement your solution!\")\n"
      ]
    },
    {
      "cell_type": "markdown",
      "metadata": {},
      "source": [
        "## 5. Train/Validation/Test Split\n",
        "\n",
        "### Task Description\n",
        "Complete the train/validation/test split tasks for this week.\n",
        "\n",
        "### Your Work\n",
        "Add your code and analysis below:"
      ]
    },
    {
      "cell_type": "code",
      "execution_count": null,
      "metadata": {},
      "outputs": [],
      "source": [
        "# TODO: Implement your solution here\n",
        "\n",
        "# Example code structure:\n",
        "# 1. Load your data\n",
        "# 2. Perform analysis\n",
        "# 3. Create visualizations\n",
        "# 4. Document findings\n",
        "\n",
        "print(\"Ready to implement your solution!\")\n"
      ]
    },
    {
      "cell_type": "markdown",
      "metadata": {},
      "source": [
        "## 6. PyTorch DataLoader Creation\n",
        "\n",
        "### Task Description\n",
        "Complete the pytorch dataloader creation tasks for this week.\n",
        "\n",
        "### Your Work\n",
        "Add your code and analysis below:"
      ]
    },
    {
      "cell_type": "code",
      "execution_count": null,
      "metadata": {},
      "outputs": [],
      "source": [
        "# TODO: Implement your solution here\n",
        "\n",
        "# Example code structure:\n",
        "# 1. Load your data\n",
        "# 2. Perform analysis\n",
        "# 3. Create visualizations\n",
        "# 4. Document findings\n",
        "\n",
        "print(\"Ready to implement your solution!\")\n"
      ]
    },
    {
      "cell_type": "markdown",
      "metadata": {},
      "source": [
        "## Summary and Next Steps\n",
        "\n",
        "### Key Findings\n",
        "- [ ] Document your main findings here\n",
        "- [ ] Note any challenges encountered\n",
        "- [ ] Record insights for next week\n",
        "\n",
        "### Next Week Preparation\n",
        "- [ ] Review the next week's requirements\n",
        "- [ ] Prepare any necessary data or models\n",
        "- [ ] Update your project documentation\n"
      ]
    }
  ],
  "metadata": {
    "kernelspec": {
      "display_name": "Python 3",
      "language": "python",
      "name": "python3"
    },
    "language_info": {
      "codemirror_mode": {
        "name": "ipython",
        "version": 3
      },
      "file_extension": ".py",
      "mimetype": "text/x-python",
      "name": "python",
      "nbconvert_exporter": "python",
      "pygments_lexer": "ipython3",
      "version": "3.9.0"
    }
  },
  "nbformat": 4,
  "nbformat_minor": 4
}