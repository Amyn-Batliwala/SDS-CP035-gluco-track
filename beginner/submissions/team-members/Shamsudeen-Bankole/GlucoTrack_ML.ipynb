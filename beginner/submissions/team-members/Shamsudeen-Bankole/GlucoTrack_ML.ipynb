{
 "cells": [
  {
   "cell_type": "code",
   "execution_count": null,
   "id": "3ae0368a-b94f-4630-a6e1-0aabd6dc2a47",
   "metadata": {},
   "outputs": [],
   "source": [
    "import pandas as pd\n",
    "import numpy as np\n",
    "import matplotlib.pyplot as plt\n",
    "import seaborn as sns\n",
    "from sklearn.model_selection import train_test_split\n",
    "from sklearn.preprocessing import StandardScaler\n",
    "from sklearn.linear_model import LogisticRegression\n",
    "from sklearn.ensemble import RandomForestClassifier, GradientBoostingClassifier\n",
    "from sklearn.tree import DecisionTreeClassifier\n",
    "from sklearn.svm import SVC\n",
    "from sklearn.naive_bayes import GaussianNB\n",
    "from sklearn.neighbors import KNeighborsClassifier\n",
    "from sklearn.metrics import classification_report, confusion_matrix, accuracy_score, roc_auc_score, roc_curve"
   ]
  },
  {
   "cell_type": "code",
   "execution_count": null,
   "id": "75a9bf38-fa5c-409c-8d4c-c3787bb1dee7",
   "metadata": {},
   "outputs": [],
   "source": [
    "pd.set_option('display.max_columns', None) # To show the full columns in the dataframe"
   ]
  },
  {
   "cell_type": "code",
   "execution_count": null,
   "id": "cb66a0d1-8477-4200-aec9-1ff200736133",
   "metadata": {},
   "outputs": [],
   "source": [
    "diab_data = pd.read_csv(\"Dataset/diabetes_binary_health_indicators_BRFSS2015.csv\")"
   ]
  },
  {
   "cell_type": "markdown",
   "id": "73090877-1bc2-4ada-91aa-f47fd0b24c7c",
   "metadata": {},
   "source": [
    "# EDA\n"
   ]
  },
  {
   "cell_type": "code",
   "execution_count": null,
   "id": "787c3cb6-bf86-4850-a8a4-635ab28775e3",
   "metadata": {},
   "outputs": [],
   "source": [
    "diab_data.shape"
   ]
  },
  {
   "cell_type": "code",
   "execution_count": null,
   "id": "cde51c62-529b-4996-84d4-d45c83feb8c8",
   "metadata": {},
   "outputs": [],
   "source": [
    "diab_data.head()"
   ]
  },
  {
   "cell_type": "code",
   "execution_count": null,
   "id": "e448355c-9731-4803-8cb9-67b3425d5f84",
   "metadata": {},
   "outputs": [],
   "source": [
    "diab_data.tail()\n"
   ]
  },
  {
   "cell_type": "code",
   "execution_count": null,
   "id": "7593fbbf-f5ba-427e-8c68-899dbb79e294",
   "metadata": {
    "scrolled": true
   },
   "outputs": [],
   "source": [
    "# Rename the target column\n",
    "diab_data.rename(columns={\"Diabetes_binary\": \"Outcome\"}, inplace=True)\n",
    "diab_data"
   ]
  },
  {
   "cell_type": "code",
   "execution_count": null,
   "id": "3affedb1-922d-4d16-9b08-acb9a1cdbba2",
   "metadata": {},
   "outputs": [],
   "source": [
    "print(diab_data.columns.tolist())"
   ]
  },
  {
   "cell_type": "code",
   "execution_count": null,
   "id": "13b2c950-3f4a-46f0-a082-c466b49fc44a",
   "metadata": {},
   "outputs": [],
   "source": [
    "# check for missing values\n",
    "diab_data.isnull().sum()"
   ]
  },
  {
   "cell_type": "code",
   "execution_count": null,
   "id": "56bd4683-87fc-4adc-8d45-38184b7bedab",
   "metadata": {},
   "outputs": [],
   "source": [
    "# Check for duplicates in the dataset\n",
    "diab_data[diab_data.duplicated()]\n",
    "# diab_data.loc[diab_data.duplicated()] "
   ]
  },
  {
   "cell_type": "code",
   "execution_count": null,
   "id": "323fcc14-3e16-47d9-95e8-74311224e28f",
   "metadata": {},
   "outputs": [],
   "source": [
    "diab_data.dtypes # Incorrectly formatted features as float64, BMI is correct as float, other features are not"
   ]
  },
  {
   "cell_type": "code",
   "execution_count": null,
   "id": "ed3aeda3-4766-4df4-9914-aa7cb65ddc6e",
   "metadata": {},
   "outputs": [],
   "source": [
    "# Identify the columns which should be categorical or numeric\n",
    "binary_features = []\n",
    "ordinal_features = []\n",
    "numeric_features = [] \n",
    "\n",
    "for col in diab_data.columns:\n",
    "    unique_vals = diab_data[col].nunique()\n",
    "    unique_list = sorted(diab_data[col].unique())\n",
    "\n",
    "    if unique_vals == 2 and set (unique_list)== {0.0, 1.0}:\n",
    "        binary_features.append(col)\n",
    "    elif unique_vals <= 13 and all(isinstance(x, (int, float)) and x == int(x) for x in unique_list):\n",
    "        ordinal_features.append(col)\n",
    "    else:\n",
    "        numeric_features.append(col)\n",
    "print(f\"binary_features (0/1): {binary_features}\")\n",
    "print(f\"ordinal_features: {ordinal_features}\")\n",
    "print(f\"numeric_features: {numeric_features}\")  "
   ]
  },
  {
   "cell_type": "code",
   "execution_count": null,
   "id": "c6ca3af3-f3ef-4c43-947c-dffce566769e",
   "metadata": {},
   "outputs": [],
   "source": [
    "# Check for constant or near constant features\n",
    "print (\"Variance analysis for constant/ near-constant features:\")\n",
    "print (\"-\"*60)\n",
    "variance_analysis = []\n",
    "for col in diab_data.columns:\n",
    "    unique_vals = diab_data[col].nunique()\n",
    "    most_common_pct = diab_data[col].value_counts().iloc[0]/len(diab_data)*100\n",
    "    variance = diab_data[col].var()\n",
    "    variance_analysis.append({\"column\": col, \"unique_values\":unique_vals, \"most_common_pct\": most_common_pct, \"variance\":variance})\n",
    "variance_df = pd.DataFrame(variance_analysis)\n",
    "variance_df= variance_df.sort_values(\"most_common_pct\", ascending = False)\n",
    "print (\"Features sorted by dominance most common value\")\n",
    "variance_df_display = variance_df.round(2)\n",
    "print(variance_df_display)"
   ]
  },
  {
   "cell_type": "code",
   "execution_count": null,
   "id": "a5a34d2e-5171-4d86-94d6-7a54702383e6",
   "metadata": {},
   "outputs": [],
   "source": [
    "# Identify near-constant features (>95% same value)\n",
    "near_constant = variance_df[variance_df[\"most_common_pct\"]>95]\n",
    "print(f\"\\\n",
    "Near_constant features (>95% same value):\")\n",
    "print(near_constant [[\"column\", \"most_common_pct\"]].round(2))"
   ]
  },
  {
   "cell_type": "code",
   "execution_count": null,
   "id": "42f4f323-64b8-41b2-a4cb-8f4faf2c9710",
   "metadata": {},
   "outputs": [],
   "source": [
    "### Target Class Distribution\n",
    "diab_data[\"Outcome\"].value_counts()"
   ]
  },
  {
   "cell_type": "code",
   "execution_count": null,
   "id": "31158624-2005-45fc-b25f-766953ad3929",
   "metadata": {},
   "outputs": [],
   "source": [
    "# Count and percentage\n",
    "counts = diab_data['Outcome'].value_counts()\n",
    "outcome_percent = round(counts / counts.sum() * 100, 1)\n",
    "\n",
    "# Define legend labels\n",
    "legend_labels = {0: 'No diabetes', 1: 'Diabetes'}\n",
    "legend_labels_list = [legend_labels[i] for i in sorted(legend_labels.keys())]\n",
    "\n",
    "# Plot\n",
    "fig, axes = plt.subplots(1, 2, figsize=(12, 6))\n",
    "\n",
    "# Bar chart\n",
    "sns.countplot(\n",
    "    data=diab_data,\n",
    "    x='Outcome',\n",
    "    hue='Outcome',\n",
    "    palette='bright',\n",
    "    dodge=False,\n",
    "    ax=axes[0]\n",
    ")\n",
    "axes[0].set_title('Bar Chart')\n",
    "\n",
    "# Replace legend numbers with text\n",
    "axes[0].legend(legend_labels_list, title=\"Outcome\")\n",
    "\n",
    "# Pie chart\n",
    "axes[1].pie(\n",
    "    counts,\n",
    "    labels=legend_labels_list,\n",
    "    colors=['blue', 'orange'],\n",
    "    autopct='%1.1f%%',\n",
    "    startangle=90\n",
    ")\n",
    "axes[1].axis('equal')\n",
    "axes[1].set_title('Pie Chart')\n",
    "\n",
    "# Overall title\n",
    "plt.suptitle('Diabetes Outcome Distribution', fontsize=16)\n",
    "plt.tight_layout()\n",
    "plt.show()"
   ]
  },
  {
   "cell_type": "code",
   "execution_count": null,
   "id": "5b758a49-22ab-456a-9f1c-d34427ff960e",
   "metadata": {},
   "outputs": [],
   "source": [
    "print(\"Loaded dataset and starting numeric feature analysis...\")\n",
    "# Identify numeric columns with more than 10 unique values (exclude binaries)\n",
    "numeric_rich = [c for c in diab_data.columns if pd.api.types.is_numeric_dtype(diab_data[c]) and diab_data[c].nunique() > 15]\n",
    "print(\"Numeric features with meaningful distributions:\")\n",
    "print(numeric_rich)\n"
   ]
  },
  {
   "cell_type": "code",
   "execution_count": null,
   "id": "5c98abd6-d4a9-4eb5-8a11-ce651f738201",
   "metadata": {},
   "outputs": [],
   "source": [
    "## Compute distribution stats, skewness, and outliers via IQR\n",
    "rows = []\n",
    "for col in numeric_rich:\n",
    "    s = diab_data[col].dropna()\n",
    "    q1 = s.quantile(0.25)\n",
    "    q3 = s.quantile(0.75)\n",
    "    iqr = q3 - q1\n",
    "    lower = q1 - 1.5 * iqr\n",
    "    upper = q3 + 1.5 * iqr\n",
    "    outliers = ((s < lower) | (s > upper)).sum()\n",
    "    skew = s.skew()\n",
    "    kurt = s.kurtosis()\n",
    "    rows.append({\n",
    "        'feature': col,\n",
    "        'min': s.min(),\n",
    "        'q1': q1,\n",
    "        'median': s.median(),\n",
    "        'mean': s.mean(),\n",
    "        'q3': q3,\n",
    "        'max': s.max(),\n",
    "        'std': s.std(),\n",
    "        'skew': skew,\n",
    "        'kurtosis': kurt,\n",
    "        'iqr': iqr,\n",
    "        'lower_bound': lower,\n",
    "        'upper_bound': upper,\n",
    "        'outlier_count': outliers,\n",
    "        'outlier_pct': outliers / len(s) * 100\n",
    "    })\n",
    "\n",
    "summary = pd.DataFrame(rows)\n",
    "summary_round = summary.copy()\n",
    "summary_round[['min','q1','median','mean','q3','max','std','skew','kurtosis','iqr','lower_bound','upper_bound','outlier_pct']] = \\\n",
    "    summary_round[['min','q1','median','mean','q3','max','std','skew','kurtosis','iqr','lower_bound','upper_bound','outlier_pct']].round(2)\n",
    "print(\"\\\n",
    "Distribution, skewness, and outlier summary:\")\n",
    "print(summary_round[['feature','min','q1','median','mean','q3','max','skew','kurtosis','outlier_count','outlier_pct']])"
   ]
  },
  {
   "cell_type": "code",
   "execution_count": null,
   "id": "42b78d6d-368d-4ea3-8565-2dd7ce77eda1",
   "metadata": {},
   "outputs": [],
   "source": [
    "# Define domain-based bounds for health-related features\n",
    "domain_bounds = {\n",
    "    'MentHlth': (0, 30),\n",
    "    'PhysHlth': (0, 30)\n",
    "}\n",
    "\n",
    "issues = []\n",
    "\n",
    "for feature, (lower, upper) in domain_bounds.items():\n",
    "    if feature in diab_data.columns:\n",
    "        series = diab_data[feature]\n",
    "        count_below_0 = (series < 0).sum()\n",
    "        count_above_upper = (series > upper).sum()\n",
    "\n",
    "        issues.append({\n",
    "            'feature': feature,\n",
    "            'below_0': int(count_below_0),\n",
    "            f'above_{upper}': int(count_above_upper)\n",
    "        })\n",
    "\n",
    "issues_df = pd.DataFrame(issues)\n",
    "\n",
    "print(\"\\n📊 Domain-based unrealistic value checks:\")\n",
    "print(issues_df)"
   ]
  },
  {
   "cell_type": "code",
   "execution_count": null,
   "id": "2188bb0a-49ff-4905-aab3-6e4f1abc6bda",
   "metadata": {},
   "outputs": [],
   "source": [
    "# Define plausible BMI bounds\n",
    "BMI_Lower_Bound = 10\n",
    "BMI_upper_Bound = 80\n",
    "\n",
    "issues = []\n",
    "\n",
    "if 'BMI' in diab_data.columns:\n",
    "    bmi_series = diab_data['BMI']\n",
    "    bmi_below_0 = (bmi_series < 0).sum()\n",
    "    bmi_below_10 = (bmi_series < BMI_Lower_Bound).sum()\n",
    "    bmi_above_80 = (bmi_series > BMI_upper_Bound).sum()\n",
    "\n",
    "    issues.append({\n",
    "        'feature': 'BMI',\n",
    "        'below_0': int(bmi_below_0),\n",
    "        'below_10': int(bmi_below_10),\n",
    "        'above_80': int(bmi_above_80)\n",
    "    })\n",
    "\n",
    "issues_df = pd.DataFrame(issues)\n",
    "\n",
    "print(\"\\n📊 Unrealistic or problematic value checks:\")\n",
    "print(issues_df)"
   ]
  },
  {
   "cell_type": "code",
   "execution_count": null,
   "id": "dba478b1-f575-4428-94ab-6edd6b64540b",
   "metadata": {},
   "outputs": [],
   "source": [
    "# Visualizations: Histograms and Boxplots for the main continuous/count features\n",
    "plot_cols = [c for c in ['BMI','MentHlth','PhysHlth'] if c in diab_data.columns]\n",
    "\n",
    "for col in plot_cols:\n",
    "    plt.figure(figsize=(6,4))\n",
    "    sns.histplot(diab_data[col], bins=30, kde=True, color='steelblue')\n",
    "    plt.title('Histogram of ' + col)\n",
    "    plt.tight_layout()\n",
    "    plt.show()\n",
    "\n",
    "for col in plot_cols:\n",
    "    plt.figure(figsize=(6,2.5))\n",
    "    sns.boxplot(x=diab_data[col], color='coral')\n",
    "    plt.title('Boxplot of ' + col)\n",
    "    plt.tight_layout()\n",
    "    plt.show()\n",
    "\n",
    "print(\"Generated summary tables and plots for BMI, MentHlth, and PhysHlth.\")"
   ]
  },
  {
   "cell_type": "code",
   "execution_count": null,
   "id": "9eb4b2b4-daa3-43a8-aeed-97ddaee07cc9",
   "metadata": {},
   "outputs": [],
   "source": [
    "# Visualizations: Bar plots for key categorical features vs diabetes rate\n",
    "features = ['HighBP', 'HighChol', 'CholCheck', 'Smoker', 'Stroke', 'HeartDiseaseorAttack', 'PhysActivity', 'Fruits', 'Veggies', 'HvyAlcoholConsump', 'AnyHealthcare', 'NoDocbcCost', 'DiffWalk', 'Sex', 'GenHlth', 'Age', 'Education', 'Income']\n",
    "for feat in features:\n",
    "    plt.figure(figsize=(6,4))\n",
    "    rates = diab_data.groupby(feat)['Outcome'].mean().reset_index()\n",
    "    rates['DiabetesRate_pct'] = rates['Outcome'] * 100\n",
    "    sns.barplot(data=rates, x=feat, y='DiabetesRate_pct', palette='viridis')\n",
    "    plt.ylabel('Diabetes rate (%)')\n",
    "    plt.title('Diabetes rate by ' + str(feat))\n",
    "    plt.tight_layout()\n",
    "    plt.show()\n",
    "\n",
    "print(\"Generated bar plots for categorical features vs diabetes rate.\")"
   ]
  },
  {
   "cell_type": "markdown",
   "id": "015bf77f-9941-4e1b-b549-805cd79f8deb",
   "metadata": {},
   "source": [
    "<details>\n",
    "<summary> ▶ Correlation of the numeric features</summary>\n",
    "</details>"
   ]
  },
  {
   "cell_type": "code",
   "execution_count": null,
   "id": "995c980b-04cf-4dfd-8911-8ccd87c2a5e8",
   "metadata": {
    "scrolled": true
   },
   "outputs": [],
   "source": [
    "corr_matrix = diab_data[[\"BMI\", \"MentHlth\", \"PhysHlth\", \"Outcome\"]].corr(method = \"pearson\")         \n",
    "# Heatmap\n",
    "plt.figure(figsize=(8, 6))\n",
    "sns.heatmap(corr_matrix, annot=True, cmap='coolwarm', fmt='.2f')\n",
    "plt.title(\"Correlation Heatmap\")\n",
    "plt.show()"
   ]
  },
  {
   "cell_type": "code",
   "execution_count": null,
   "id": "8e0db4e4-aa90-4459-b064-4702a9bc8f37",
   "metadata": {},
   "outputs": [],
   "source": [
    "diab_data.describe()"
   ]
  },
  {
   "cell_type": "markdown",
   "id": "3b4ae043-9a58-4086-9ad7-4b0d0c56dd85",
   "metadata": {},
   "source": [
    "<details>\n",
    "<summary> ▶ Association of Binary Features with outcome</summary>\n",
    "</details>"
   ]
  },
  {
   "cell_type": "code",
   "execution_count": null,
   "id": "979cc94c-fad7-40d5-b36e-fe298af7ac4b",
   "metadata": {},
   "outputs": [],
   "source": [
    "from scipy.stats import chi2_contingency\n",
    "for feature in binary_features:\n",
    "    contingency = pd.crosstab(diab_data[feature], df['Outcome'])\n",
    "    chi2, p, _, _ = chi2_contingency(contingency)\n",
    "    print(f\"{feature}: p-value = {p:.4f}\")"
   ]
  },
  {
   "cell_type": "markdown",
   "id": "20114cbc-4026-4c04-97f7-62dd8f0f759a",
   "metadata": {},
   "source": [
    "<details>\n",
    "<summary> ▶ Correlation of Ordinal features with outcome</summary>\n",
    "</details>"
   ]
  },
  {
   "cell_type": "code",
   "execution_count": null,
   "id": "7efa1cb4-a084-4955-956d-b2dda366aa78",
   "metadata": {},
   "outputs": [],
   "source": [
    "from scipy.stats import spearmanr\n",
    "\n",
    "for feature in ordinal_features:\n",
    "    r, p = spearmanr(diab_data[feature], diab_data['Outcome'])\n",
    "    print(f\"{feature}: Spearman r = {r:.3f}, p = {p:.4f}\")"
   ]
  },
  {
   "cell_type": "markdown",
   "id": "9dbc6420-6fda-4f30-8f3a-1b3740c6e658",
   "metadata": {},
   "source": [
    "<details>\n",
    "<summary> ▶ Check and interpretation of multicollinearity</summary>\n",
    "🔍 VIF > 5 suggests moderate multicollinearity\n",
    "🔥 VIF > 10 is considered problematic\n",
    "</details>"
   ]
  },
  {
   "cell_type": "code",
   "execution_count": null,
   "id": "ced1fe3e-fe4d-4b1a-b7a4-adcd83dfbce8",
   "metadata": {},
   "outputs": [],
   "source": [
    "# Variance_inflation_factor Check for Multicollinearity\n",
    "from statsmodels.stats.outliers_influence import variance_inflation_factor\n",
    "from statsmodels.tools.tools import add_constant\n",
    "\n",
    "# Ensure no categorical variables (encode them if needed)\n",
    "X = diab_data.drop(columns=['Outcome'])  # exclude target\n",
    "X = add_constant(X)\n",
    "\n",
    "# Calculate VIF\n",
    "vif = pd.DataFrame()\n",
    "vif[\"Feature\"] = X.columns\n",
    "vif[\"VIF\"] = [variance_inflation_factor(X.values, i) for i in range(X.shape[1])]\n",
    "vif = vif.sort_values(by=\"VIF\", ascending=False)\n",
    "print(vif)"
   ]
  },
  {
   "cell_type": "markdown",
   "id": "3dd29465-a828-4542-8603-86c2c10691bb",
   "metadata": {},
   "source": [
    "## Data Pre-processing"
   ]
  },
  {
   "cell_type": "code",
   "execution_count": null,
   "id": "2dcc7175-a936-4648-ab53-1102b041cb5c",
   "metadata": {},
   "outputs": [],
   "source": []
  },
  {
   "cell_type": "code",
   "execution_count": null,
   "id": "be157a5b-14f7-4a10-8eae-eed8d547ed22",
   "metadata": {},
   "outputs": [],
   "source": []
  },
  {
   "cell_type": "code",
   "execution_count": null,
   "id": "53b30cce-a139-42d7-b1f1-dc1f4d1a9c4d",
   "metadata": {},
   "outputs": [],
   "source": [
    "#features_column = diab_data.iloc[:, 1:]\n",
    "#features_column\n"
   ]
  },
  {
   "cell_type": "code",
   "execution_count": null,
   "id": "9b6b2dca-6de9-4f83-b80c-7ab524bb3bb0",
   "metadata": {},
   "outputs": [],
   "source": []
  }
 ],
 "metadata": {
  "kernelspec": {
   "display_name": "Python [conda env:base] *",
   "language": "python",
   "name": "conda-base-py"
  },
  "language_info": {
   "codemirror_mode": {
    "name": "ipython",
    "version": 3
   },
   "file_extension": ".py",
   "mimetype": "text/x-python",
   "name": "python",
   "nbconvert_exporter": "python",
   "pygments_lexer": "ipython3",
   "version": "3.12.9"
  }
 },
 "nbformat": 4,
 "nbformat_minor": 5
}
